{
 "cells": [
  {
   "cell_type": "markdown",
   "metadata": {},
   "source": [
    "# 2016 US Bike Share Activity Snapshot\n",
    "\n",
    "## Table of Contents\n",
    "- [Introduction](#intro)\n",
    "- [Posing Questions](#pose_questions)\n",
    "- [Data Collection and Wrangling](#wrangling)\n",
    "  - [Condensing the Trip Data](#condensing)\n",
    "- [Exploratory Data Analysis](#eda)\n",
    "  - [Statistics](#statistics)\n",
    "  - [Visualizations](#visualizations)\n",
    "- [Performing Your Own Analysis](#eda_continued)\n",
    "- [Conclusions](#conclusions)\n",
    "\n",
    "<a id='intro'></a>\n",
    "## Introduction\n",
    "\n",
    "> **Tip**: Quoted sections like this will provide helpful instructions on how to navigate and use a Jupyter notebook.\n",
    "\n",
    "Over the past decade, bicycle-sharing systems have been growing in number and popularity in cities across the world. Bicycle-sharing systems allow users to rent bicycles for short trips, typically 30 minutes or less. Thanks to the rise in information technologies, it is easy for a user of the system to access a dock within the system to unlock or return bicycles. These technologies also provide a wealth of data that can be used to explore how these bike-sharing systems are used.\n",
    "\n",
    "In this project, you will perform an exploratory analysis on data provided by [Motivate](https://www.motivateco.com/), a bike-share system provider for many major cities in the United States. You will compare the system usage between three large cities: New York City, Chicago, and Washington, DC. You will also see if there are any differences within each system for those users that are registered, regular users and those users that are short-term, casual users."
   ]
  },
  {
   "cell_type": "markdown",
   "metadata": {},
   "source": [
    "<a id='pose_questions'></a>\n",
    "## Posing Questions\n",
    "\n",
    "Before looking at the bike sharing data, you should start by asking questions you might want to understand about the bike share data. Consider, for example, if you were working for Motivate. What kinds of information would you want to know about in order to make smarter business decisions? If you were a user of the bike-share service, what factors might influence how you would want to use the service?\n",
    "\n",
    "**Question 1**: Write at least two questions related to bike sharing that you think could be answered by data.\n",
    "\n",
    "**Answer**: Which city has the largest number of users in a period?\n",
    "            Depending on the city, what type of users use this bike sharing system consistently? what is the trend?\n",
    "            Which city has the highest number of customers/Subscribers in the bike sharing systems?\n",
    "            Which is the peak season for bike sharing in each city?\n",
    "\n",
    "> **Tip**: If you double click on this cell, you will see the text change so that all of the formatting is removed. This allows you to edit this block of text. This block of text is written using [Markdown](http://daringfireball.net/projects/markdown/syntax), which is a way to format text using headers, links, italics, and many other options using a plain-text syntax. You will also use Markdown later in the Nanodegree program. Use **Shift** + **Enter** or **Shift** + **Return** to run the cell and show its rendered form."
   ]
  },
  {
   "cell_type": "markdown",
   "metadata": {},
   "source": [
    "<a id='wrangling'></a>\n",
    "## Data Collection and Wrangling\n",
    "\n",
    "Now it's time to collect and explore our data. In this project, we will focus on the record of individual trips taken in 2016 from our selected cities: New York City, Chicago, and Washington, DC. Each of these cities has a page where we can freely download the trip data.:\n",
    "\n",
    "- New York City (Citi Bike): [Link](https://www.citibikenyc.com/system-data)\n",
    "- Chicago (Divvy): [Link](https://www.divvybikes.com/system-data)\n",
    "- Washington, DC (Capital Bikeshare): [Link](https://www.capitalbikeshare.com/system-data)\n",
    "\n",
    "If you visit these pages, you will notice that each city has a different way of delivering its data. Chicago updates with new data twice a year, Washington DC is quarterly, and New York City is monthly. **However, you do not need to download the data yourself.** The data has already been collected for you in the `/data/` folder of the project files. While the original data for 2016 is spread among multiple files for each city, the files in the `/data/` folder collect all of the trip data for the year into one file per city. Some data wrangling of inconsistencies in timestamp format within each city has already been performed for you. In addition, a random 2% sample of the original data is taken to make the exploration more manageable. \n",
    "\n",
    "**Question 2**: However, there is still a lot of data for us to investigate, so it's a good idea to start off by looking at one entry from each of the cities we're going to analyze. Run the first code cell below to load some packages and functions that you'll be using in your analysis. Then, complete the second code cell to print out the first trip recorded from each of the cities (the second line of each data file).\n",
    "\n",
    "> **Tip**: You can run a code cell like you formatted Markdown cells above by clicking on the cell and using the keyboard shortcut **Shift** + **Enter** or **Shift** + **Return**. Alternatively, a code cell can be executed using the **Play** button in the toolbar after selecting it. While the cell is running, you will see an asterisk in the message to the left of the cell, i.e. `In [*]:`. The asterisk will change into a number to show that execution has completed, e.g. `In [1]`. If there is output, it will show up as `Out [1]:`, with an appropriate number to match the \"In\" number."
   ]
  },
  {
   "cell_type": "code",
   "execution_count": 164,
   "metadata": {
    "collapsed": true
   },
   "outputs": [],
   "source": [
    "## import all necessary packages and functions.\n",
    "import csv # read and write csv files\n",
    "from datetime import datetime # operations to parse dates\n",
    "from pprint import pprint # use to print data structures like dictionaries in a nicer way than the base print function.\n",
    "import collections\n",
    "import numpy as np\n",
    "import matplotlib.pyplot as plt\n",
    "import pandas as pd\n",
    "from collections import OrderedDict"
   ]
  },
  {
   "cell_type": "code",
   "execution_count": 165,
   "metadata": {},
   "outputs": [
    {
     "name": "stdout",
     "output_type": "stream",
     "text": [
      "\n",
      "City: NYC\n",
      "OrderedDict([('tripduration', '839'),\n",
      "             ('starttime', '1/1/2016 00:09:55'),\n",
      "             ('stoptime', '1/1/2016 00:23:54'),\n",
      "             ('start station id', '532'),\n",
      "             ('start station name', 'S 5 Pl & S 4 St'),\n",
      "             ('start station latitude', '40.710451'),\n",
      "             ('start station longitude', '-73.960876'),\n",
      "             ('end station id', '401'),\n",
      "             ('end station name', 'Allen St & Rivington St'),\n",
      "             ('end station latitude', '40.72019576'),\n",
      "             ('end station longitude', '-73.98997825'),\n",
      "             ('bikeid', '17109'),\n",
      "             ('usertype', 'Customer'),\n",
      "             ('birth year', ''),\n",
      "             ('gender', '0')])\n",
      "\n",
      "City: Chicago\n",
      "OrderedDict([('trip_id', '9080545'),\n",
      "             ('starttime', '3/31/2016 23:30'),\n",
      "             ('stoptime', '3/31/2016 23:46'),\n",
      "             ('bikeid', '2295'),\n",
      "             ('tripduration', '926'),\n",
      "             ('from_station_id', '156'),\n",
      "             ('from_station_name', 'Clark St & Wellington Ave'),\n",
      "             ('to_station_id', '166'),\n",
      "             ('to_station_name', 'Ashland Ave & Wrightwood Ave'),\n",
      "             ('usertype', 'Subscriber'),\n",
      "             ('gender', 'Male'),\n",
      "             ('birthyear', '1990')])\n",
      "\n",
      "City: Washington\n",
      "OrderedDict([('Duration (ms)', '427387'),\n",
      "             ('Start date', '3/31/2016 22:57'),\n",
      "             ('End date', '3/31/2016 23:04'),\n",
      "             ('Start station number', '31602'),\n",
      "             ('Start station', 'Park Rd & Holmead Pl NW'),\n",
      "             ('End station number', '31207'),\n",
      "             ('End station', 'Georgia Ave and Fairmont St NW'),\n",
      "             ('Bike number', 'W20842'),\n",
      "             ('Member Type', 'Registered')])\n"
     ]
    }
   ],
   "source": [
    "def print_first_point(filename):\n",
    "    \"\"\"\n",
    "    This function prints and returns the first data point (second row) from\n",
    "    a csv file that includes a header row.\n",
    "    \"\"\"\n",
    "    # print city name for reference\n",
    "    city = filename.split('-')[0].split('/')[-1]\n",
    "    print('\\nCity: {}'.format(city))\n",
    "    \n",
    "    with open(filename, 'r') as f_in:\n",
    "        ## TODO: Use the csv library to set up a DictReader object. ##\n",
    "        ## see https://docs.python.org/3/library/csv.html           ##\n",
    "        trip_reader = csv.DictReader(f_in)\n",
    "        \n",
    "        ## TODO: Use a function on the DictReader object to read the     ##\n",
    "        ## first trip from the data file and store it in a variable.     ##\n",
    "        ## see https://docs.python.org/3/library/csv.html#reader-objects ##\n",
    "        first_trip = trip_reader.__next__()\n",
    "        \n",
    "        ## TODO: Use the pprint library to print the first trip. ##\n",
    "        ## see https://docs.python.org/3/library/pprint.html     ##\n",
    "        \n",
    "    # output city name and first trip for later testing\n",
    "    pprint(first_trip)\n",
    "    return (city, first_trip)\n",
    "\n",
    "# list of files for each city\n",
    "data_files = ['./data/NYC-CitiBike-2016.csv',\n",
    "              './data/Chicago-Divvy-2016.csv',\n",
    "              './data/Washington-CapitalBikeshare-2016.csv',]\n",
    "\n",
    "# print the first trip from each file, store in dictionary\n",
    "example_trips = {}\n",
    "for data_file in data_files:\n",
    "    city, first_trip = print_first_point(data_file)\n",
    "    example_trips[city] = first_trip"
   ]
  },
  {
   "cell_type": "markdown",
   "metadata": {},
   "source": [
    "If everything has been filled out correctly, you should see below the printout of each city name (which has been parsed from the data file name) that the first trip has been parsed in the form of a dictionary. When you set up a `DictReader` object, the first row of the data file is normally interpreted as column names. Every other row in the data file will use those column names as keys, as a dictionary is generated for each row.\n",
    "\n",
    "This will be useful since we can refer to quantities by an easily-understandable label instead of just a numeric index. For example, if we have a trip stored in the variable `row`, then we would rather get the trip duration from `row['duration']` instead of `row[0]`.\n",
    "\n",
    "<a id='condensing'></a>\n",
    "### Condensing the Trip Data\n",
    "\n",
    "It should also be observable from the above printout that each city provides different information. Even where the information is the same, the column names and formats are sometimes different. To make things as simple as possible when we get to the actual exploration, we should trim and clean the data. Cleaning the data makes sure that the data formats across the cities are consistent, while trimming focuses only on the parts of the data we are most interested in to make the exploration easier to work with.\n",
    "\n",
    "You will generate new data files with five values of interest for each trip: trip duration, starting month, starting hour, day of the week, and user type. Each of these may require additional wrangling depending on the city:\n",
    "\n",
    "- **Duration**: This has been given to us in seconds (New York, Chicago) or milliseconds (Washington). A more natural unit of analysis will be if all the trip durations are given in terms of minutes.\n",
    "- **Month**, **Hour**, **Day of Week**: Ridership volume is likely to change based on the season, time of day, and whether it is a weekday or weekend. Use the start time of the trip to obtain these values. The New York City data includes the seconds in their timestamps, while Washington and Chicago do not. The [`datetime`](https://docs.python.org/3/library/datetime.html) package will be very useful here to make the needed conversions.\n",
    "- **User Type**: It is possible that users who are subscribed to a bike-share system will have different patterns of use compared to users who only have temporary passes. Washington divides its users into two types: 'Registered' for users with annual, monthly, and other longer-term subscriptions, and 'Casual', for users with 24-hour, 3-day, and other short-term passes. The New York and Chicago data uses 'Subscriber' and 'Customer' for these groups, respectively. For consistency, you will convert the Washington labels to match the other two.\n",
    "\n",
    "\n",
    "**Question 3a**: Complete the helper functions in the code cells below to address each of the cleaning tasks described above."
   ]
  },
  {
   "cell_type": "code",
   "execution_count": 166,
   "metadata": {
    "collapsed": true
   },
   "outputs": [],
   "source": [
    "def duration_in_mins(datum, city):\n",
    "    \"\"\"\n",
    "    Takes as input a dictionary containing info about a single trip (datum) and\n",
    "    its origin city (city) and returns the trip duration in units of minutes.\n",
    "    \n",
    "    Remember that Washington is in terms of milliseconds while Chicago and NYC\n",
    "    are in terms of seconds. \n",
    "    \n",
    "    HINT: The csv module reads in all of the data as strings, including numeric\n",
    "    values. You will need a function to convert the strings into an appropriate\n",
    "    numeric type when making your transformations.\n",
    "    see https://docs.python.org/3/library/functions.html\n",
    "    \n",
    "    Aim is to Create a new data file with five values of interest for each trip:\n",
    "    \n",
    "    trip duration, starting month, starting hour, day of the week, and user type\n",
    "    \n",
    "    Breaking the problem:\n",
    "    \n",
    "    1) so for every city, we are getting the first row values and it is coming in as an OrderedDict.\n",
    "    2) so we need to use functions to read data from Ordered Dict \n",
    "    3) then we ll process those values like -- \n",
    "        1)convert strings to numeric - for datetime conversions --- so it indicates we ll be using datetime function\n",
    "        we ll convert the trip duration to minutes\n",
    "        2)nyc includes seconds in their timestamps, we need to use the start time of the trip to obtain values.\n",
    "        3)convert Washington labels to match teh groups in nyc and chicago-- 'Subscriber' and 'Customer' \n",
    "        washington labels : 'Casual' -- '24-hour',3-day and other short term passes\n",
    "        and 'Registered' --- annual,monthly and long-term subscriptions\n",
    "        Datasets in NYC that do not have any labels are to be left alone.\n",
    "    4) store all the processed data in a new data file with labels - \n",
    "    \n",
    "    trip duration, starting month, starting hour, day of the week, and user type\n",
    "\n",
    "    \n",
    "    \"\"\"\n",
    "    \n",
    "    # YOUR CODE HERE\n",
    "    if city == 'NYC':\n",
    "        time_in_seconds = int(datum['tripduration'])\n",
    "        duration = float(time_in_seconds/60)\n",
    "        \n",
    "    if city == 'Chicago':\n",
    "        time_in_seconds = int(datum['tripduration'])\n",
    "        duration = float(time_in_seconds/60)\n",
    "        \n",
    "    if city == 'Washington':\n",
    "        time_in_milliseconds = int(datum['Duration (ms)'])\n",
    "        duration = float((time_in_milliseconds * 0.001)/60)\n",
    "    return duration\n",
    "    \n",
    "\n",
    "# Some tests to check that your code works. There should be no output if all of\n",
    "# the assertions pass. The `example_trips` dictionary was obtained from when\n",
    "# you printed the first trip from each of the original data files.\n",
    "tests = {'NYC': 13.9833,\n",
    "         'Chicago': 15.4333,\n",
    "         'Washington': 7.1231}\n",
    "\n",
    "for city in tests:\n",
    "    assert abs(duration_in_mins(example_trips[city], city) - tests[city]) < .001"
   ]
  },
  {
   "cell_type": "code",
   "execution_count": 167,
   "metadata": {
    "collapsed": true
   },
   "outputs": [],
   "source": [
    "def time_of_trip(datum, city):\n",
    "    \"\"\"\n",
    "    Takes as input a dictionary containing info about a single trip (datum) and\n",
    "    its origin city (city) and returns the month, hour, and day of the week in\n",
    "    which the trip was made.\n",
    "    \n",
    "    Remember that NYC includes seconds, while Washington and Chicago do not.\n",
    "    \n",
    "    HINT: You should use the datetime module to parse the original date\n",
    "    strings into a format that is useful for extracting the desired information.\n",
    "    see https://docs.python.org/3/library/datetime.html#strftime-and-strptime-behavior\n",
    "    \n",
    "    starttime is in format - month/day/year hour:min:sec\n",
    "    \n",
    "    \"\"\"\n",
    "    \n",
    "    # YOUR CODE HERE\n",
    "    \n",
    "    \n",
    "    if city == 'NYC':\n",
    "        date_string = datum['starttime']\n",
    "        date_object = datetime.strptime(date_string, '%m/%d/%Y %H:%M:%S')\n",
    "        \n",
    "    if city == 'Chicago':\n",
    "        date_string = datum['starttime']\n",
    "        date_object = datetime.strptime(date_string, '%m/%d/%Y %H:%M')\n",
    "    \n",
    "    if city == 'Washington':\n",
    "        date_string = datum['Start date']\n",
    "        date_object = datetime.strptime(date_string, '%m/%d/%Y %H:%M')       \n",
    "                \n",
    "    month = int(date_object.strftime('%-m'))\n",
    "    hour = int(date_object.strftime('%-H'))\n",
    "    day_of_week = date_object.strftime('%A')\n",
    "    \n",
    "    \n",
    "    return (month, hour, day_of_week)\n",
    "\n",
    "\n",
    "# Some tests to check that your code works. There should be no output if all of\n",
    "# the assertions pass. The `example_trips` dictionary was obtained from when\n",
    "# you printed the first trip from each of the original data files.\n",
    "tests = {'NYC': (1, 0, 'Friday'),\n",
    "         'Chicago': (3, 23, 'Thursday'),\n",
    "         'Washington': (3, 22, 'Thursday')}\n",
    "\n",
    "for city in tests:\n",
    "    assert time_of_trip(example_trips[city], city) == tests[city]"
   ]
  },
  {
   "cell_type": "code",
   "execution_count": 168,
   "metadata": {
    "collapsed": true
   },
   "outputs": [],
   "source": [
    "def type_of_user(datum, city):\n",
    "    \"\"\"\n",
    "    Takes as input a dictionary containing info about a single trip (datum) and\n",
    "    its origin city (city) and returns the type of system user that made the\n",
    "    trip.\n",
    "    \n",
    "    Remember that Washington has different category names compared to Chicago\n",
    "    and NYC. NYC has some data points with a missing user type; you can leave\n",
    "    these as they are (empty string).\n",
    "    \"\"\"\n",
    "    user_type =\"\"\n",
    "    \n",
    "    # YOUR CODE HERE\n",
    "    if city == 'NYC':\n",
    "        utype = datum['usertype']\n",
    "        if utype == \"\":\n",
    "            user_type = \"\"\n",
    "        else:\n",
    "            user_type = utype\n",
    "    if city == 'Chicago':\n",
    "        user_type = datum['usertype']\n",
    "    if city == 'Washington':\n",
    "        utype = datum['Member Type']\n",
    "        if utype == \"Registered\":\n",
    "            user_type = \"Subscriber\"\n",
    "        if utype == \"Casual\":\n",
    "            user_type = \"Customer\"\n",
    "            \n",
    "    \n",
    "    return user_type\n",
    "\n",
    "\n",
    "# Some tests to check that your code works. There should be no output if all of\n",
    "# the assertions pass. The `example_trips` dictionary was obtained from when\n",
    "# you printed the first trip from each of the original data files.\n",
    "tests = {'NYC': 'Customer',\n",
    "         'Chicago': 'Subscriber',\n",
    "         'Washington': 'Subscriber'}\n",
    "\n",
    "for city in tests:\n",
    "    assert type_of_user(example_trips[city], city) == tests[city]"
   ]
  },
  {
   "cell_type": "markdown",
   "metadata": {},
   "source": [
    "**Question 3b**: Now, use the helper functions you wrote above to create a condensed data file for each city consisting only of the data fields indicated above. In the `/examples/` folder, you will see an example datafile from the [Bay Area Bike Share](http://www.bayareabikeshare.com/open-data) before and after conversion. Make sure that your output is formatted to be consistent with the example file."
   ]
  },
  {
   "cell_type": "code",
   "execution_count": 169,
   "metadata": {
    "collapsed": true
   },
   "outputs": [],
   "source": [
    "def condense_data(in_file, out_file, city):\n",
    "    \"\"\"\n",
    "    This function takes full data from the specified input file\n",
    "    and writes the condensed data to a specified output file. The city\n",
    "    argument determines how the input file will be parsed.\n",
    "    \n",
    "    HINT: See the cell below to see how the arguments are structured!\n",
    "    \"\"\"\n",
    "    \n",
    "    with open(out_file, 'w') as f_out, open(in_file, 'r') as f_in:\n",
    "        # set up csv DictWriter object - writer requires column names for the\n",
    "        # first row as the \"fieldnames\" argument\n",
    "        out_colnames = ['duration', 'month', 'hour', 'day_of_week', 'user_type']        \n",
    "        trip_writer = csv.DictWriter(f_out, fieldnames = out_colnames)\n",
    "        trip_writer.writeheader()\n",
    "        \n",
    "        ## TODO: set up csv DictReader object ##\n",
    "        trip_reader = csv.DictReader(f_in)\n",
    "\n",
    "        # collect data from and process each row\n",
    "        for row in trip_reader:\n",
    "            # set up a dictionary to hold the values for the cleaned and trimmed\n",
    "            # data point\n",
    "            new_point = {}\n",
    "\n",
    "            ## TODO: use the helper functions to get the cleaned data from  ##\n",
    "            ## the original data dictionaries.                              ##\n",
    "            ## Note that the keys for the new_point dictionary should match ##\n",
    "            ## the column names set in the DictWriter object above.         ##\n",
    "            duration = duration_in_mins(row, city)\n",
    "            month,hour,day_of_week = time_of_trip(row, city)\n",
    "            user_type = type_of_user(row, city)\n",
    "            new_point = {\"duration\":duration,\"month\":month,\"hour\":hour,\"day_of_week\":day_of_week,\"user_type\":user_type}\n",
    "            \n",
    "            \n",
    "            ## TODO: write the processed information to the output file.     ##\n",
    "            ## see https://docs.python.org/3/library/csv.html#writer-objects ##\n",
    "            trip_writer.writerow(new_point)\n",
    "            \n",
    "            "
   ]
  },
  {
   "cell_type": "code",
   "execution_count": 170,
   "metadata": {},
   "outputs": [
    {
     "name": "stdout",
     "output_type": "stream",
     "text": [
      "\n",
      "City: Washington\n",
      "OrderedDict([('duration', '7.123116666666666'),\n",
      "             ('month', '3'),\n",
      "             ('hour', '22'),\n",
      "             ('day_of_week', 'Thursday'),\n",
      "             ('user_type', 'Subscriber')])\n",
      "\n",
      "City: Chicago\n",
      "OrderedDict([('duration', '15.433333333333334'),\n",
      "             ('month', '3'),\n",
      "             ('hour', '23'),\n",
      "             ('day_of_week', 'Thursday'),\n",
      "             ('user_type', 'Subscriber')])\n",
      "\n",
      "City: NYC\n",
      "OrderedDict([('duration', '13.983333333333333'),\n",
      "             ('month', '1'),\n",
      "             ('hour', '0'),\n",
      "             ('day_of_week', 'Friday'),\n",
      "             ('user_type', 'Customer')])\n"
     ]
    }
   ],
   "source": [
    "# Run this cell to check your work\n",
    "city_info = {'Washington': {'in_file': './data/Washington-CapitalBikeshare-2016.csv',\n",
    "                            'out_file': './data/Washington-2016-Summary.csv'},\n",
    "             'Chicago': {'in_file': './data/Chicago-Divvy-2016.csv',\n",
    "                         'out_file': './data/Chicago-2016-Summary.csv'},\n",
    "             'NYC': {'in_file': './data/NYC-CitiBike-2016.csv',\n",
    "                     'out_file': './data/NYC-2016-Summary.csv'}}\n",
    "\n",
    "for city, filenames in city_info.items():\n",
    "    condense_data(filenames['in_file'], filenames['out_file'], city)\n",
    "    print_first_point(filenames['out_file'])"
   ]
  },
  {
   "cell_type": "markdown",
   "metadata": {},
   "source": [
    "> **Tip**: If you save a jupyter Notebook, the output from running code blocks will also be saved. However, the state of your workspace will be reset once a new session is started. Make sure that you run all of the necessary code blocks from your previous session to reestablish variables and functions before picking up where you last left off.\n",
    "\n",
    "<a id='eda'></a>\n",
    "## Exploratory Data Analysis\n",
    "\n",
    "Now that you have the data collected and wrangled, you're ready to start exploring the data. In this section you will write some code to compute descriptive statistics from the data. You will also be introduced to the `matplotlib` library to create some basic histograms of the data.\n",
    "\n",
    "<a id='statistics'></a>\n",
    "### Statistics\n",
    "\n",
    "First, let's compute some basic counts. The first cell below contains a function that uses the csv module to iterate through a provided data file, returning the number of trips made by subscribers and customers. The second cell runs this function on the example Bay Area data in the `/examples/` folder. Modify the cells to answer the question below.\n",
    "\n",
    "**Question 4a**: Which city has the highest number of trips? Which city has the highest proportion of trips made by subscribers? Which city has the highest proportion of trips made by short-term customers?\n",
    "\n",
    "NYC city has the highest number of trips. NYC has the highest proportion of trips made by subscribers. Chicago has the highest proportio of trips made by short-term customers."
   ]
  },
  {
   "cell_type": "code",
   "execution_count": 171,
   "metadata": {
    "collapsed": true
   },
   "outputs": [],
   "source": [
    "## Initializing the variables to load data files ##\n",
    "\n",
    "data_file_Chicago = './data/Chicago-2016-Summary.csv'\n",
    "data_file_NYC = './data/NYC-2016-Summary.csv'\n",
    "data_file_Washington ='./data/Washington-2016-Summary.csv'\n",
    "data_file_bayarea = './examples/BayArea-Y3-Summary.csv'\n"
   ]
  },
  {
   "cell_type": "code",
   "execution_count": 172,
   "metadata": {
    "collapsed": true
   },
   "outputs": [],
   "source": [
    "def number_of_trips(filename):\n",
    "    \"\"\"\n",
    "    This function reads in a file with trip data and reports the number of\n",
    "    trips made by subscribers, customers, and total overall.\n",
    "    \"\"\"\n",
    "    with open(filename, 'r') as f_in:\n",
    "        # set up csv reader object\n",
    "        reader = csv.DictReader(f_in)\n",
    "        \n",
    "        # initialize count variables\n",
    "        n_subscribers = 0\n",
    "        n_customers = 0\n",
    "        n_duration_subscribers = 0\n",
    "        n_duration_customers = 0\n",
    "        \n",
    "        \n",
    "        # tally up ride types\n",
    "        for row in reader:\n",
    "            if row['user_type'] == 'Subscriber':\n",
    "                n_subscribers += 1\n",
    "                n_duration_subscribers += float(row['duration'])\n",
    "            elif row['user_type'] == 'Customer':\n",
    "                n_customers += 1\n",
    "                n_duration_customers += float(row['duration'])\n",
    "        \n",
    "        # compute total number of rides\n",
    "        n_total = n_subscribers + n_customers\n",
    "        \n",
    "        p_subscribers = (n_subscribers / n_total)*100\n",
    "        p_customers = (n_customers / n_total)*100\n",
    "        \n",
    "        # return tallies as a tuple\n",
    "        return(n_total,n_subscribers,n_customers,p_subscribers,p_customers,n_duration_subscribers,n_duration_customers)"
   ]
  },
  {
   "cell_type": "code",
   "execution_count": 173,
   "metadata": {
    "collapsed": true
   },
   "outputs": [],
   "source": [
    "\n",
    "def str_key_for_maxVal(check_dict):\n",
    "    \"\"\"\n",
    "    This function takes in a dictionary, finds the max value and returns \n",
    "    the key for the maximum value in that dictionary\n",
    "    \"\"\"\n",
    "    ## initializing variables ##\n",
    "    max_val = 0\n",
    "    max_key = 0\n",
    "    \n",
    "    ## finding the key with the maximum value ##\n",
    "    \n",
    "    max_val = max(check_dict.values())\n",
    "    max_key  = [key for key, value in check_dict.items() if value == max_val][0]\n",
    "    \n",
    "    return max_key\n",
    "\n"
   ]
  },
  {
   "cell_type": "code",
   "execution_count": 174,
   "metadata": {
    "collapsed": true
   },
   "outputs": [],
   "source": [
    "\n",
    "number_of_trips_Chicago, n_subscribers_Chicago,n_customers_Chicago,proportion_of_subscribers_Chicago,proportion_of_customers_Chicago,d_s_Chicago,d_c_Chicago = number_of_trips(data_file_Chicago)\n",
    "number_of_trips_NYC,n_subscribers_NYC,n_customers_NYC,proportion_of_subscribers_NYC,proportion_of_customers_NYC,d_s_NYC,d_c_NYC = number_of_trips(data_file_NYC)\n",
    "number_of_trips_Washington,n_subscribers_Washington,n_customers_Washington,proportion_of_subscribers_Washington,proportion_of_customers_Washington,d_s_Washington,d_c_Washington = number_of_trips(data_file_Washington)\n",
    "\n"
   ]
  },
  {
   "cell_type": "code",
   "execution_count": 175,
   "metadata": {},
   "outputs": [],
   "source": [
    "## Modify this and the previous cell to answer Question 4a. Remember to run ##\n",
    "## the function on the cleaned data files you created from Question 3.      ##\n",
    "\n",
    "\n",
    "#Initializing variables:\n",
    "d_trips = []\n",
    "d_proportion_customers = []\n",
    "d_proportion_subscribers = []\n",
    "\n",
    "#To find the city with highest number of trips\n",
    "d_trips = {'Chicago': number_of_trips_Chicago,'NYC':number_of_trips_NYC,'Washington':number_of_trips_Washington}\n",
    "\n",
    "#To find the city which has the highest proportion of trips made by customers\n",
    "d_proportion_customers = {'Chicago':proportion_of_customers_Chicago,'NYC':proportion_of_customers_NYC,'Washington':proportion_of_customers_Washington}\n",
    "\n",
    "#To find the city which has the highest proportion of trips made by subscribers\n",
    "d_proportion_subscribers = {'Chicago':proportion_of_subscribers_Chicago,'NYC':proportion_of_subscribers_NYC,'Washington':proportion_of_subscribers_Washington}\n"
   ]
  },
  {
   "cell_type": "code",
   "execution_count": 176,
   "metadata": {},
   "outputs": [],
   "source": [
    "def merge_dict(dicts):\n",
    "    \"\"\"\n",
    "    This function merges the dictionaries to create one single set\n",
    "    \"\"\"\n",
    "    super_dict = {}\n",
    "    for d in dicts:\n",
    "        for k, v in d.items():\n",
    "            if super_dict.get(k) is None:\n",
    "                super_dict[k] = []\n",
    "            if v not in super_dict.get(k):\n",
    "                super_dict[k].append(v)\n",
    "    \n",
    "    return (super_dict)\n",
    "\n"
   ]
  },
  {
   "cell_type": "code",
   "execution_count": 177,
   "metadata": {},
   "outputs": [
    {
     "name": "stdout",
     "output_type": "stream",
     "text": [
      "        Chicago            NYC    Washington                       Type\n",
      "0  72131.000000  276081.000000  66326.000000            Number of Trips\n",
      "1     23.774799      10.933385     21.971776    Proportion of Customers\n",
      "2     76.225201      89.066615     78.028224  Proportion of Subscribers\n"
     ]
    }
   ],
   "source": [
    "dicts =[d_trips,d_proportion_customers,d_proportion_subscribers]\n",
    "new_d = merge_dict(dicts)\n",
    "\n",
    "## Adding the Type key in the merge dictionary\n",
    "new_d['Type'] = ['Number of Trips','Proportion of Customers','Proportion of Subscribers']\n",
    "\n",
    "# Creating an OrderedDict\n",
    "data = OrderedDict(list(new_d.items()))\n",
    "\n",
    "#Creating a DataFrame from the OrderedDict\n",
    "df = pd.DataFrame.from_dict(data)\n",
    "\n",
    "pprint(df)\n"
   ]
  },
  {
   "cell_type": "code",
   "execution_count": 178,
   "metadata": {
    "scrolled": true
   },
   "outputs": [
    {
     "name": "stdout",
     "output_type": "stream",
     "text": [
      "City with highest Number of Trips is NYC\n",
      "City with the highest proportion of trips made by customers is Chicago\n",
      "City with the highest proportion of trips made by subscribers is NYC\n"
     ]
    }
   ],
   "source": [
    "print(\"City with highest Number of Trips is {}\".format(str_key_for_maxVal(d_trips)))\n",
    "print(\"City with the highest proportion of trips made by customers is {}\".format(str_key_for_maxVal(d_proportion_customers)))\n",
    "print(\"City with the highest proportion of trips made by subscribers is {}\".format(str_key_for_maxVal(d_proportion_subscribers)))"
   ]
  },
  {
   "cell_type": "markdown",
   "metadata": {},
   "source": [
    "> **Tip**: In order to add additional cells to a notebook, you can use the \"Insert Cell Above\" and \"Insert Cell Below\" options from the menu bar above. There is also an icon in the toolbar for adding new cells, with additional icons for moving the cells up and down the document. By default, new cells are of the code type; you can also specify the cell type (e.g. Code or Markdown) of selected cells from the Cell menu or the dropdown in the toolbar.\n",
    "\n",
    "Now, you will write your own code to continue investigating properties of the data.\n",
    "\n",
    "**Question 4b**: Bike-share systems are designed for riders to take short trips. Most of the time, users are allowed to take trips of 30 minutes or less with no additional charges, with overage charges made for trips of longer than that duration. What is the average trip length for each city? What proportion of rides made in each city are longer than 30 minutes?\n",
    "\n",
    "\n",
    "Chicago City:\n",
    "Average trip length = 16.563629368787335 minutes\n",
    "Proportion of rides longer than 30 minutes = 8.332062497400562%\n",
    "\n",
    "NYC City:\n",
    "Average trip length = 15.81259299802294 minutes\n",
    "Proportion of rides longer than 30 minutes = 7.3024371563378345%\n",
    "\n",
    "Washington City:\n",
    "Average trip length = 18.932873559137214 minutes\n",
    "Proportion of rides longer than 30 minutes = 10.83888671109369%"
   ]
  },
  {
   "cell_type": "code",
   "execution_count": 179,
   "metadata": {
    "collapsed": true,
    "scrolled": true
   },
   "outputs": [],
   "source": [
    "## Use this and additional cells to answer Question 4b.                 ##\n",
    "##                                                                      ##\n",
    "## HINT: The csv module reads in all of the data as strings, including  ##\n",
    "## numeric values. You will need a function to convert the strings      ##\n",
    "## into an appropriate numeric type before you aggregate data.          ##\n",
    "## TIP: For the Bay Area example, the average trip length is 14 minutes ##\n",
    "## and 3.5% of trips are longer than 30 minutes.   ##\n",
    "\n",
    "\n",
    "def average_trip(filename):\n",
    "    \"\"\"\n",
    "    This function reads in a file with trip data and reports the number of\n",
    "    average trip length for each city and finds the proportion of rides made longer than 30 minutes in each city\n",
    "    \n",
    "    Average trip length: total length of all the trips/ number of trips\n",
    "    \n",
    "    proportion of rides longer than 30 minutes : rides of longer than 30 minutes/ number of trips\n",
    "    \n",
    "    \n",
    "    \"\"\"\n",
    "    with open(filename, 'r') as f_in:\n",
    "        # set up csv reader object\n",
    "        reader = csv.DictReader(f_in)\n",
    "        \n",
    "        # initialize count variables\n",
    "        n_trips = 0\n",
    "        n_total_length = 0\n",
    "        n_rides_gt_30 = 0\n",
    "        avg_trip = 0\n",
    "        proportion_gt_30 = 0\n",
    "        \n",
    "        for row in reader:\n",
    "            n_trips += 1\n",
    "            n_total_length += float(row['duration'])\n",
    "            if float(row['duration']) > 30.0:\n",
    "                n_rides_gt_30 +=1\n",
    "                \n",
    "#         print(n_total_length)\n",
    "#         print(n_trips)\n",
    "#         print(n_rides_gt_30)\n",
    "    \n",
    "        avg_trip_len = n_total_length / n_trips\n",
    "        proportion_gt_30 = (n_rides_gt_30 / n_trips) * 100\n",
    "        \n",
    "        return (n_total_length,n_trips,avg_trip_len,proportion_gt_30)\n",
    "        \n",
    "\n"
   ]
  },
  {
   "cell_type": "code",
   "execution_count": 180,
   "metadata": {},
   "outputs": [
    {
     "name": "stdout",
     "output_type": "stream",
     "text": [
      "(88429.50000000029, 6299, 14.038656929671422, 3.5243689474519764)\n"
     ]
    }
   ],
   "source": [
    "## Checking the function written above with sample data ##\n",
    "\n",
    "print(average_trip(data_file_bayarea))"
   ]
  },
  {
   "cell_type": "markdown",
   "metadata": {},
   "source": [
    "**Question 4c**: Dig deeper into the question of trip duration based on ridership. Choose one city. Within that city, which type of user takes longer rides on average: Subscribers or Customers?\n",
    "\n",
    "Chosen City : Chicago\n",
    "\n",
    "Average Subscriber Trip Duration : 12.067201690250076 minutes\n",
    "Average Customer Trip Duration : 30.979781133982506 minutes"
   ]
  },
  {
   "cell_type": "code",
   "execution_count": 181,
   "metadata": {},
   "outputs": [
    {
     "name": "stdout",
     "output_type": "stream",
     "text": [
      "Average Subscriber Trip Duration : 12.067201690250076 minutes\n",
      "Average Customer Trip Duration : 30.979781133982506 minutes\n"
     ]
    }
   ],
   "source": [
    "## Use this and additional cells to answer Question 4c. If you have    ##\n",
    "## not done so yet, consider revising some of your previous code to    ##\n",
    "## make use of functions for reusability.                              ##\n",
    "##                                                                     ##\n",
    "## TIP: For the Bay Area example data, you should find the average     ##\n",
    "## Subscriber trip duration to be 9.5 minutes and the average Customer ##\n",
    "## trip duration to be 54.6 minutes. Do the other cities have this     ##\n",
    "## level of difference?                                                ##\n",
    "\n",
    "## average rides of subscribers = total number of rides/rides of subscribers\n",
    "## average rides of customers = total number of rides/rides of customers\n",
    "\n",
    "## average length of ride of subscribers =  length of rides of subscribers/no of subscribers\n",
    "## average length of ride of customers = length of rides of customers/no of customers\n",
    "\n",
    "\n",
    "avg_len_subscribers = d_s_Chicago/n_subscribers_Chicago\n",
    "avg_len_customers = d_c_Chicago/n_customers_Chicago\n",
    "\n",
    "print(\"Average Subscriber Trip Duration : {} minutes\".format(avg_len_subscribers))\n",
    "print(\"Average Customer Trip Duration : {} minutes\".format(avg_len_customers))\n"
   ]
  },
  {
   "cell_type": "markdown",
   "metadata": {},
   "source": [
    "<a id='visualizations'></a>\n",
    "### Visualizations\n",
    "\n",
    "The last set of values that you computed should have pulled up an interesting result. While the mean trip time for Subscribers is well under 30 minutes, the mean trip time for Customers is actually _above_ 30 minutes! It will be interesting for us to look at how the trip times are distributed. In order to do this, a new library will be introduced here, `matplotlib`. Run the cell below to load the library and to generate an example plot."
   ]
  },
  {
   "cell_type": "code",
   "execution_count": 182,
   "metadata": {},
   "outputs": [
    {
     "data": {
      "image/png": "[encoded data removed]",
      "text/plain": [
       "<matplotlib.figure.Figure at 0x111a98438>"
      ]
     },
     "metadata": {},
     "output_type": "display_data"
    }
   ],
   "source": [
    "\n",
    "# this is a 'magic word' that allows for plots to be displayed\n",
    "# inline with the notebook. If you want to know more, see:\n",
    "# http://ipython.readthedocs.io/en/stable/interactive/magics.html\n",
    "%matplotlib inline \n",
    "\n",
    "# example histogram, data taken from bay area sample\n",
    "data = [ 7.65,  8.92,  7.42,  5.50, 16.17,  4.20,  8.98,  9.62, 11.48, 14.33,\n",
    "        19.02, 21.53,  3.90,  7.97,  2.62,  2.67,  3.08, 14.40, 12.90,  7.83,\n",
    "        25.12,  8.30,  4.93, 12.43, 10.60,  6.17, 10.88,  4.78, 15.15,  3.53,\n",
    "         9.43, 13.32, 11.72,  9.85,  5.22, 15.10,  3.95,  3.17,  8.78,  1.88,\n",
    "         4.55, 12.68, 12.38,  9.78,  7.63,  6.45, 17.38, 11.90, 11.52,  8.63,]\n",
    "plt.hist(data,bins=10,width=1.5)\n",
    "plt.title('Distribution of Trip Durations')\n",
    "plt.ylabel('Number of Rides')\n",
    "plt.xlabel('Duration (m)')\n",
    "plt.show()"
   ]
  },
  {
   "cell_type": "markdown",
   "metadata": {},
   "source": [
    "In the above cell, we collected fifty trip times in a list, and passed this list as the first argument to the `.hist()` function. This function performs the computations and creates plotting objects for generating a histogram, but the plot is actually not rendered until the `.show()` function is executed. The `.title()` and `.xlabel()` functions provide some labeling for plot context.\n",
    "\n",
    "You will now use these functions to create a histogram of the trip times for the city you selected in question 4c. Don't separate the Subscribers and Customers for now: just collect all of the trip times and plot them."
   ]
  },
  {
   "cell_type": "code",
   "execution_count": 183,
   "metadata": {
    "collapsed": true
   },
   "outputs": [],
   "source": [
    "## Use this and additional cells to collect all of the trip times as a list ##\n",
    "## and then use pyplot functions to generate a histogram of trip times.     ##\n",
    "\n",
    "\n",
    "def trip_times(filename):\n",
    "    \"\"\"\n",
    "    This function reads in a file with trip data and reports the number of\n",
    "    trips made by subscribers, customers, and total overall.\n",
    "    \"\"\"\n",
    "    with open(filename, 'r') as f_in:\n",
    "        # set up csv reader object\n",
    "        reader = csv.DictReader(f_in)\n",
    "        \n",
    "        trip_times_list = []\n",
    "        trip_s_list = []\n",
    "        trip_c_list = []\n",
    "        \n",
    "        # tally up ride types\n",
    "        for row in reader:\n",
    "            trip_times_list.append(float(row['duration']))\n",
    "            if row['user_type'] == 'Subscriber':\n",
    "                trip_s_list.append(float(row['duration']))\n",
    "            if row['user_type'] == 'Customer':\n",
    "                trip_c_list.append(float(row['duration']))\n",
    "      \n",
    "       \n",
    "        # return tallies as a tuple\n",
    "        return trip_times_list,trip_s_list,trip_c_list\n",
    "\n"
   ]
  },
  {
   "cell_type": "code",
   "execution_count": 184,
   "metadata": {
    "collapsed": true
   },
   "outputs": [],
   "source": [
    "## creating lists of Overall Trip durations,Subscriber trip durations and  Customer trip durations\n",
    "\n",
    "data,s_data,c_data = trip_times(data_file_Chicago)"
   ]
  },
  {
   "cell_type": "code",
   "execution_count": 185,
   "metadata": {},
   "outputs": [
    {
     "data": {
      "image/png": "[encoded data removed]",
      "text/plain": [
       "<matplotlib.figure.Figure at 0x10d3280b8>"
      ]
     },
     "metadata": {},
     "output_type": "display_data"
    }
   ],
   "source": [
    "# this is a 'magic word' that allows for plots to be displayed\n",
    "# inline with the notebook. If you want to know more, see:\n",
    "# http://ipython.readthedocs.io/en/stable/interactive/magics.html\n",
    "%matplotlib inline \n",
    "\n",
    "plt.hist(data,width=50)\n",
    "plt.title('Distribution of Trip Durations')\n",
    "plt.xlabel('Duration (m)')\n",
    "plt.ylabel('Number of Rides')\n",
    "plt.show()"
   ]
  },
  {
   "cell_type": "markdown",
   "metadata": {},
   "source": [
    "If you followed the use of the `.hist()` and `.show()` functions exactly like in the example, you're probably looking at a plot that's completely unexpected. The plot consists of one extremely tall bar on the left, maybe a very short second bar, and a whole lot of empty space in the center and right. Take a look at the duration values on the x-axis. This suggests that there are some highly infrequent outliers in the data. Instead of reprocessing the data, you will use additional parameters with the `.hist()` function to limit the range of data that is plotted. Documentation for the function can be found [[here]](https://matplotlib.org/devdocs/api/_as_gen/matplotlib.pyplot.hist.html#matplotlib.pyplot.hist).\n",
    "\n",
    "**Question 5**: Use the parameters of the `.hist()` function to plot the distribution of trip times for the Subscribers in your selected city. Do the same thing for only the Customers. Add limits to the plots so that only trips of duration less than 75 minutes are plotted. As a bonus, set the plots up so that bars are in five-minute wide intervals. For each group, where is the peak of each distribution? How would you describe the shape of each distribution?\n",
    "\n",
    "For Subscribers:\n",
    "\n",
    "The Group with the highest peak distribution is those who took for a duration of within 0 to 20 minutes.\n",
    "The number of riders taking the bike seems to decrease as the amount of time increases gradually.\n",
    "\n",
    "For Customers:\n",
    "\n",
    "The Group with the highest peak distribution is those who took for a duration of between 15 and 30 minutes.\n",
    "Initially, The number of riders taking the bike seems to increase after the first 15 minutes and touches it peak between 15 and 30 minutes and later reduces gradually as the time increases."
   ]
  },
  {
   "cell_type": "code",
   "execution_count": 186,
   "metadata": {},
   "outputs": [
    {
     "data": {
      "image/png": "[encoded data removed]",
      "text/plain": [
       "<matplotlib.figure.Figure at 0x110e69a58>"
      ]
     },
     "metadata": {},
     "output_type": "display_data"
    }
   ],
   "source": [
    "#Subscriber Trip Duration Distribution\n",
    "%matplotlib inline \n",
    "plt.hist(s_data,bins=10,range=(0.00,75.00),width=3.5)\n",
    "plt.title('Distribution of Subscriber Trip Durations')\n",
    "plt.xlabel('Duration (m)')\n",
    "plt.ylabel('Number of Rides')\n",
    "plt.show()"
   ]
  },
  {
   "cell_type": "code",
   "execution_count": 187,
   "metadata": {},
   "outputs": [
    {
     "data": {
      "image/png": "[encoded data removed]",
      "text/plain": [
       "<matplotlib.figure.Figure at 0x1110049b0>"
      ]
     },
     "metadata": {},
     "output_type": "display_data"
    }
   ],
   "source": [
    "#Customer Trip Duration Distribution\n",
    "%matplotlib inline \n",
    "\n",
    "plt.hist(c_data,bins=10,range=(0.00,75.00),width=3.5)\n",
    "plt.title('Distribution of Customer Trip Durations')\n",
    "plt.xlabel('Duration (m)')\n",
    "plt.ylabel('Number of Rides')\n",
    "plt.show()"
   ]
  },
  {
   "cell_type": "markdown",
   "metadata": {
    "collapsed": true
   },
   "source": [
    "<a id='eda_continued'></a>\n",
    "## Performing Your Own Analysis\n",
    "\n",
    "So far, you've performed an initial exploration into the data available. You have compared the relative volume of trips made between three U.S. cities and the ratio of trips made by Subscribers and Customers. For one of these cities, you have investigated differences between Subscribers and Customers in terms of how long a typical trip lasts. Now it is your turn to continue the exploration in a direction that you choose. Here are a few suggestions for questions to explore:\n",
    "\n",
    "- How does ridership differ by month or season? Which month / season has the highest ridership? Does the ratio of Subscriber trips to Customer trips change depending on the month or season?\n",
    "- Is the pattern of ridership different on the weekends versus weekdays? On what days are Subscribers most likely to use the system? What about Customers? Does the average duration of rides change depending on the day of the week?\n",
    "- During what time of day is the system used the most? Is there a difference in usage patterns for Subscribers and Customers?\n",
    "\n",
    "If any of the questions you posed in your answer to question 1 align with the bullet points above, this is a good opportunity to investigate one of them. As part of your investigation, you will need to create a visualization. If you want to create something other than a histogram, then you might want to consult the [Pyplot documentation](https://matplotlib.org/devdocs/api/pyplot_summary.html). In particular, if you are plotting values across a categorical variable (e.g. city, user type), a bar chart will be useful. The [documentation page for `.bar()`](https://matplotlib.org/devdocs/api/_as_gen/matplotlib.pyplot.bar.html#matplotlib.pyplot.bar) includes links at the bottom of the page with examples for you to build off of for your own use.\n",
    "\n",
    "**Question 6**: Continue the investigation by exploring another question that could be answered by the data available. Document the question you want to explore below. Your investigation should involve at least two variables and should compare at least two groups. You should also use at least one visualization as part of your explorations.\n",
    "\n",
    "\n",
    "- How does ridership differ by month or season? Which month / season has the highest ridership? Does the ratio of Subscriber trips to Customer trips change depending on the month or season?\n",
    "\n",
    "The month with the highest ridership including both Subscribers and customers is October. The ratio of Subscriber trips to Customer Trips do Change in each month. With the highest proportion being for the month of July.\n",
    "\n",
    "Please find the Visualizations for Customer Ridership, Subscriber Ridership and Customer vs Subscriber Ridership below.\n",
    "\n"
   ]
  },
  {
   "cell_type": "code",
   "execution_count": 188,
   "metadata": {
    "collapsed": true
   },
   "outputs": [],
   "source": [
    "\"\"\"\n",
    "The functions defined here are used by the ridership_by_season() function to answer the question:\n",
    "\n",
    "How does ridership differ by month or season? Which month / season has the highest ridership?\n",
    "Does the ratio of Subscriber trips to Customer trips change depending on the month or season?\n",
    "\n",
    "\"\"\"\n",
    "\n",
    "def sort_dict(old_dict):\n",
    "    \"\"\"\n",
    "    This function takes in a dictionary and sorts them and returns a new dict with the sorted items\n",
    "    \"\"\"  \n",
    "    ## initializing variables ##\n",
    "    new_dict = {}\n",
    "    \n",
    "    for key in sorted(old_dict.keys()):\n",
    "            new_dict[key] = old_dict[key]\n",
    "            \n",
    "    return new_dict\n",
    "\n",
    "\n",
    "def key_for_maxVal(check_dict):\n",
    "    \"\"\"\n",
    "    This function takes in a dictionary, finds the max value and returns \n",
    "    the key for the maximum value in that dictionary\n",
    "    \"\"\"\n",
    "    ## initializing variables ##\n",
    "    max_val = 0\n",
    "    max_key = 0\n",
    "    \n",
    "    ## finding the key with the maximum value ##\n",
    "    \n",
    "    max_val = max(check_dict.values())\n",
    "    max_key  = int([key for key, value in check_dict.items() if value == max_val][0])\n",
    "    \n",
    "    return max_key\n",
    "\n",
    "def map_cal(month):\n",
    "    \"\"\"\n",
    "    This function takes the month number and returns the month name \n",
    "    \"\"\"\n",
    "    ### initializing variables ##\n",
    "    d_cal = {'Jan':1,'Feb':2,'Mar':3,'Apr':4,'May':5,'Jun':6,'Jul':7,'Aug':8,'Sep':9,'Oct':10,'Nov':11,'Dec':12}\n",
    "    month_val = \"\"\n",
    "    \n",
    "    for key in d_cal.keys():\n",
    "            if d_cal[key] == month:\n",
    "                month_val = key\n",
    "    return month_val"
   ]
  },
  {
   "cell_type": "code",
   "execution_count": 189,
   "metadata": {
    "collapsed": true
   },
   "outputs": [],
   "source": [
    "## Question 1: How does ridership differ by month or season? \n",
    "## Does the ratio of Subscriber to Customer trips change depending on the month or season?\n",
    "\n",
    "\n",
    "def ridership_by_season(filename):\n",
    "    \"\"\"\n",
    "    This function takes a file, opens, reads it and then calculates the number of riders by month or by season.\n",
    "    Also, calculate the number of Subscribers per season or month and calculate the number of Customers per \n",
    "    season or month\n",
    "    \"\"\"\n",
    "    \n",
    "    with open(filename,'r') as f_in:\n",
    "        reader = csv.DictReader(f_in)\n",
    "        \n",
    "        #Initializing variables and dictionary\n",
    "        d_month = {}\n",
    "        d_cust = {}\n",
    "        d_subs = {}\n",
    "        d_ratio = {}\n",
    "        sorted_cust = {}\n",
    "        sorted_subs = {}\n",
    "        sorted_ratio = {}\n",
    "        n_count = 0\n",
    "        n_cust_count = 0\n",
    "        n_subs_count =0\n",
    "        \n",
    "        for row in reader:\n",
    "            n_count += 1\n",
    "            d_month[row['month']] = n_count\n",
    "            if row['user_type'] == 'Customer':\n",
    "                n_cust_count += 1\n",
    "                d_cust[int(row['month'])] = n_cust_count\n",
    "            if row['user_type'] == 'Subscriber':\n",
    "                n_subs_count += 1\n",
    "                d_subs[int(row['month'])] = n_subs_count\n",
    "      \n",
    "        \n",
    "        max_month  = key_for_maxVal(d_month)\n",
    "    \n",
    "        ## Mapping the d_month values to the calendar for finding the month with Highest ridership##\n",
    "        \n",
    "        print(\"The month with the Highest Ridership is {}\".format(map_cal(max_month)))\n",
    "        \n",
    "        ## Calculating the Ratio of Customer:Subscriber Ridership\n",
    "        \n",
    "        for key1 in d_cust.keys():           \n",
    "            for key2 in d_subs.keys():\n",
    "                if int(key1) == int(key2):\n",
    "                    d_ratio[key1] = ((d_subs[key1] / d_cust[key2]))\n",
    "        \n",
    "        max_diff = key_for_maxVal(d_ratio)\n",
    "        \n",
    "        print(\"The month with the highest ratio of Customers to Subscribers is {}\".format(map_cal(max_diff)))\n",
    "      \n",
    "        ## sorting the dictionaries ##\n",
    "        \n",
    "        sorted_cust = sort_dict(d_cust)\n",
    "        sorted_subs = sort_dict(d_subs)\n",
    "        sorted_ratio = sort_dict(d_ratio)\n",
    "       \n",
    "        return (sorted_ratio,sorted_cust,sorted_subs)\n",
    "                \n"
   ]
  },
  {
   "cell_type": "code",
   "execution_count": 190,
   "metadata": {},
   "outputs": [
    {
     "name": "stdout",
     "output_type": "stream",
     "text": [
      "The month with the Highest Ridership is Oct\n",
      "The month with the highest ratio of Customers to Subscribers is Jan\n"
     ]
    }
   ],
   "source": [
    "##Dictionaries returned by the ridership_by_season\n",
    "\n",
    "ratio_dict,cust_dict,subs_dict = ridership_by_season(data_file_Chicago)"
   ]
  },
  {
   "cell_type": "code",
   "execution_count": 191,
   "metadata": {},
   "outputs": [
    {
     "data": {
      "image/png": "[encoded data removed]",
      "text/plain": [
       "<matplotlib.figure.Figure at 0x10d30e6a0>"
      ]
     },
     "metadata": {},
     "output_type": "display_data"
    }
   ],
   "source": [
    "\n",
    "## Plotting Bar Charts for Customer Ridership\n",
    "\n",
    "plt.title('Customer Ridership')\n",
    "plt.bar(range(len(cust_dict)), cust_dict.values(), align='center',color='r')\n",
    "plt.xticks(range(len(cust_dict)), cust_dict.keys())\n",
    "plt.xlabel('months')\n",
    "plt.ylabel('number of rides')\n",
    "plt.show()\n",
    "\n"
   ]
  },
  {
   "cell_type": "code",
   "execution_count": 192,
   "metadata": {},
   "outputs": [
    {
     "data": {
      "image/png": "[encoded data removed]",
      "text/plain": [
       "<matplotlib.figure.Figure at 0x107ea60b8>"
      ]
     },
     "metadata": {},
     "output_type": "display_data"
    }
   ],
   "source": [
    "\n",
    "## Plotting Bar Charts for Subscriber Ridership\n",
    "\n",
    "plt.title('Subscriber Ridership')\n",
    "plt.bar(range(len(subs_dict)), subs_dict.values(), align='center',color='y')\n",
    "plt.xticks(range(len(subs_dict)), subs_dict.keys())\n",
    "plt.xlabel('months')\n",
    "plt.ylabel('number of rides')\n",
    "plt.show()\n",
    "\n"
   ]
  },
  {
   "cell_type": "code",
   "execution_count": 193,
   "metadata": {},
   "outputs": [
    {
     "data": {
      "image/png": "[encoded data removed]",
      "text/plain": [
       "<matplotlib.figure.Figure at 0x111a78828>"
      ]
     },
     "metadata": {},
     "output_type": "display_data"
    }
   ],
   "source": [
    "\n",
    "## Plotting Bar Charts for Customer vs Subscriber Ridership\n",
    "\n",
    "N = len(cust_dict)\n",
    "ind = np.arange(N)  # the x locations for the groups\n",
    "width = 0.35       # the width of the bars\n",
    "\n",
    "fig, ax = plt.subplots()\n",
    "rects1 = ax.bar(ind, cust_dict.values(), width, color='r')\n",
    "\n",
    "rects2 = ax.bar(ind + width, subs_dict.values(), width, color='y')\n",
    "\n",
    "# add some text for labels, title and axes ticks\n",
    "ax.set_ylabel('Number of Rides')\n",
    "ax.set_title('Subscriber vs Customer Ridership')\n",
    "ax.set_xticks(ind + width / 2)\n",
    "ax.set_xticklabels(cust_dict.keys())\n",
    "\n",
    "ax.legend((rects1[0], rects2[0]), ('Customer', 'Subscriber'))\n",
    "\n",
    "\n",
    "plt.show()"
   ]
  },
  {
   "cell_type": "markdown",
   "metadata": {},
   "source": [
    "<a id='conclusions'></a>\n",
    "## Conclusions\n",
    "\n",
    "Congratulations on completing the project! This is only a sampling of the data analysis process: from generating questions, wrangling the data, and to exploring the data. Normally, at this point in the data analysis process, you might want to draw conclusions about the data by performing a statistical test or fitting the data to a model for making predictions. There are also a lot of potential analyses that could be performed on the data which are not possible with only the data provided. For example, detailed location data has not been investigated. Where are the most commonly used docks? What are the most common routes? As another example, weather has potential to have a large impact on daily ridership. How much is ridership impacted when there is rain or snow? Are subscribers or customers affected more by changes in weather?\n",
    "\n",
    "**Question 7**: Putting the bike share data aside, think of a topic or field of interest where you would like to be able to apply the techniques of data science. What would you like to be able to learn from your chosen subject?\n",
    "\n",
    "I would like to Explore the population of different states of India, my home country. \n",
    "\n",
    "Some things to learn would be:\n",
    "\n",
    "1) what is the population density per square foot?\n",
    "2) which state has the highest population?\n",
    "3) which state has the lowest population?\n",
    "4) Which state has the highest and the lowest population densities?\n",
    "\n",
    "> **Tip**: If we want to share the results of our analysis with others, we aren't limited to giving them a copy of the jupyter Notebook (.ipynb) file. We can also export the Notebook output in a form that can be opened even for those without Python installed. From the **File** menu in the upper left, go to the **Download as** submenu. You can then choose a different format that can be viewed more generally, such as HTML (.html) or\n",
    "PDF (.pdf). You may need additional packages or software to perform these exports."
   ]
  },
  {
   "cell_type": "markdown",
   "metadata": {},
   "source": [
    "RESOURCES:\n",
    "    \n",
    "    www.stackoverflow.com\n",
    "    https://community.modeanalytics.com/python/tutorial/counting-and-plotting-in-python/#visualizing-data-with-plot\n",
    "    https://eazybi.com/blog/data_visualization_and_chart_types/\n",
    "    https://docs.python.org/3/tutorial/inputoutput.html#reading-and-writing-files\n",
    "    https://matplotlib.org/devdocs/api/pyplot_summary.html\n",
    "        "
   ]
  },
  {
   "cell_type": "code",
   "execution_count": null,
   "metadata": {
    "collapsed": true
   },
   "outputs": [],
   "source": []
  }
 ],
 "metadata": {
  "anaconda-cloud": {},
  "kernelspec": {
   "display_name": "Python 3",
   "language": "python",
   "name": "python3"
  },
  "language_info": {
   "codemirror_mode": {
    "name": "ipython",
    "version": 3
   },
   "file_extension": ".py",
   "mimetype": "text/x-python",
   "name": "python",
   "nbconvert_exporter": "python",
   "pygments_lexer": "ipython3",
   "version": "3.6.2"
  }
 },
 "nbformat": 4,
 "nbformat_minor": 1
}
